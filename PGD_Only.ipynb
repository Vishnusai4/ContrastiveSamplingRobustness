{
  "nbformat": 4,
  "nbformat_minor": 0,
  "metadata": {
    "colab": {
      "name": "SecandRob.ipynb",
      "provenance": []
    },
    "kernelspec": {
      "name": "python3",
      "display_name": "Python 3"
    },
    "language_info": {
      "name": "python"
    },
    "accelerator": "GPU"
  },
  "cells": [
    {
      "cell_type": "code",
      "metadata": {
        "id": "nUiybrGqE6Cv",
        "colab": {
          "base_uri": "https://localhost:8080/"
        },
        "outputId": "e9a39775-5fcc-4619-dbcd-7ead9f2b18e8"
      },
      "source": [
        "from google.colab import drive\n",
        "drive.mount('/content/gdrive')"
      ],
      "execution_count": null,
      "outputs": [
        {
          "output_type": "stream",
          "text": [
            "Mounted at /content/gdrive\n"
          ],
          "name": "stdout"
        }
      ]
    },
    {
      "cell_type": "code",
      "metadata": {
        "id": "ApT86eH1G2kv",
        "colab": {
          "base_uri": "https://localhost:8080/"
        },
        "outputId": "b5054568-46b4-4b84-fbee-e45cd8687e9a"
      },
      "source": [
        "!ls /content/gdrive/My\\ Drive/SecProj"
      ],
      "execution_count": null,
      "outputs": [
        {
          "output_type": "stream",
          "text": [
            "model_0.pth   model_15.pth  model_5.pth     model.pt\topt_14.pth  opt_4.pth\n",
            "model_10.pth  model_16.pth  model_6.pth     opt_0.pth\topt_15.pth  opt_5.pth\n",
            "model_11.pth  model_1.pth   model_7.pth     opt_10.pth\topt_16.pth  opt_6.pth\n",
            "model_12.pth  model_2.pth   model_8.pth     opt_11.pth\topt_1.pth   opt_7.pth\n",
            "model_13.pth  model_3.pth   model_9.pth     opt_12.pth\topt_2.pth   opt_8.pth\n",
            "model_14.pth  model_4.pth   model_best.pth  opt_13.pth\topt_3.pth   opt_9.pth\n"
          ],
          "name": "stdout"
        }
      ]
    },
    {
      "cell_type": "code",
      "metadata": {
        "colab": {
          "base_uri": "https://localhost:8080/"
        },
        "id": "nBPe1Yi-E9t8",
        "outputId": "da5c9088-8f63-4643-d5fe-082ecf9e5b59"
      },
      "source": [
        "! git clone https://github.com/locuslab/robust_overfitting.git"
      ],
      "execution_count": null,
      "outputs": [
        {
          "output_type": "stream",
          "text": [
            "Cloning into 'robust_overfitting'...\n",
            "remote: Enumerating objects: 211, done.\u001b[K\n",
            "remote: Counting objects: 100% (211/211), done.\u001b[K\n",
            "remote: Compressing objects: 100% (116/116), done.\u001b[K\n",
            "remote: Total 211 (delta 18), reused 199 (delta 11), pack-reused 0\u001b[K\n",
            "Receiving objects: 100% (211/211), 627.92 KiB | 21.65 MiB/s, done.\n",
            "Resolving deltas: 100% (18/18), done.\n"
          ],
          "name": "stdout"
        }
      ]
    },
    {
      "cell_type": "code",
      "metadata": {
        "colab": {
          "base_uri": "https://localhost:8080/"
        },
        "id": "aX-MvAQGFlxl",
        "outputId": "bb71a9ad-daea-470f-8589-a4a05829fe90"
      },
      "source": [
        "!python robust_overfitting/train_cifar.py --epochs 50"
      ],
      "execution_count": null,
      "outputs": [
        {
          "output_type": "stream",
          "text": [
            "[2021/04/06 20:38:21] - Namespace(attack='pgd', attack_iters=10, batch_size=128, chkpt_iters=1, cutout=False, cutout_len=None, data_dir='../cifar-data', epochs=50, epsilon=8, eval=False, fgsm_alpha=1.25, fgsm_init='random', fname='cifar_model', half=False, l1=0, l2=0, lr_drop_epoch=100, lr_max=0.1, lr_one_drop=0.01, lr_schedule='piecewise', mixup=False, mixup_alpha=None, model='PreActResNet18', norm='l_inf', pgd_alpha=2, restarts=1, resume=0, seed=0, val=False, width_factor=10)\n",
            "Downloading https://www.cs.toronto.edu/~kriz/cifar-10-python.tar.gz to ../cifar-data/cifar-10-python.tar.gz\n",
            "170499072it [00:01, 100547210.22it/s]                  \n",
            "Extracting ../cifar-data/cifar-10-python.tar.gz to ../cifar-data\n",
            "Files already downloaded and verified\n",
            "tcmalloc: large alloc 1920000000 bytes == 0x5576a128e000 @  0x7ff8c28e31e7 0x7ff8c036346e 0x7ff8c03b3c7b 0x7ff8c03b3d18 0x7ff8c046fd79 0x7ff8c0472e4c 0x7ff8c0591e7f 0x7ff8c0597fb5 0x7ff8c0599e3d 0x7ff8c059b516 0x5575ea7022c0 0x5575ea701e99 0x7ff8c047a4d8 0x5575ea6e4583 0x5575ea7eafb6 0x5575ea772a39 0x5575ea76fe0d 0x5575ea70277a 0x5575ea770a45 0x5575ea76fb0e 0x5575ea76f813 0x5575ea839592 0x5575ea83990d 0x5575ea8397b6 0x5575ea811103 0x5575ea810dac 0x7ff8c16cdbf7 0x5575ea810c8a\n",
            "[2021/04/06 20:38:28] - Epoch \t Train Time \t Test Time \t LR \t \t Train Loss \t Train Acc \t Train Robust Loss \t Train Robust Acc \t Test Loss \t Test Acc \t Test Robust Loss \t Test Robust Acc\n",
            "[2021/04/06 20:51:28] - 0 \t 657.5 \t \t 122.1 \t \t 0.1000 \t 1.9743 \t 0.2789 \t 2.1581 \t \t 0.1982 \t \t 1.7932 \t 0.3539 \t 1.9863 \t \t 0.2673\n",
            "[2021/04/06 21:04:37] - 1 \t 667.4 \t \t 122.0 \t \t 0.1000 \t 1.7005 \t 0.3888 \t 1.9756 \t \t 0.2598 \t \t 1.6031 \t 0.4357 \t 1.8642 \t \t 0.3038\n",
            "[2021/04/06 21:17:47] - 2 \t 666.8 \t \t 122.3 \t \t 0.1000 \t 1.5840 \t 0.4391 \t 1.9023 \t \t 0.2856 \t \t 1.4967 \t 0.4689 \t 1.8087 \t \t 0.3155\n",
            "[2021/04/06 21:30:58] - 3 \t 668.3 \t \t 122.3 \t \t 0.1000 \t 1.4886 \t 0.4850 \t 1.8426 \t \t 0.3056 \t \t 1.4368 \t 0.4816 \t 1.7719 \t \t 0.3259\n",
            "[2021/04/06 21:44:09] - 4 \t 668.2 \t \t 122.3 \t \t 0.1000 \t 1.3950 \t 0.5287 \t 1.7839 \t \t 0.3260 \t \t 1.3450 \t 0.5551 \t 1.7285 \t \t 0.3536\n",
            "[2021/04/06 21:57:21] - 5 \t 668.7 \t \t 122.3 \t \t 0.1000 \t 1.3246 \t 0.5629 \t 1.7403 \t \t 0.3432 \t \t 1.2299 \t 0.6000 \t 1.6460 \t \t 0.3797\n",
            "[2021/04/06 22:10:32] - 6 \t 667.9 \t \t 122.2 \t \t 0.1000 \t 1.2629 \t 0.5875 \t 1.6982 \t \t 0.3577 \t \t 1.2195 \t 0.6114 \t 1.6128 \t \t 0.4032\n",
            "[2021/04/06 22:23:43] - 7 \t 668.3 \t \t 122.2 \t \t 0.1000 \t 1.2197 \t 0.6087 \t 1.6710 \t \t 0.3681 \t \t 1.1372 \t 0.6347 \t 1.5965 \t \t 0.3948\n",
            "[2021/04/06 22:36:53] - 8 \t 668.2 \t \t 121.8 \t \t 0.1000 \t 1.1816 \t 0.6260 \t 1.6455 \t \t 0.3782 \t \t 1.1232 \t 0.6128 \t 1.5926 \t \t 0.3939\n",
            "[2021/04/06 22:50:02] - 9 \t 666.7 \t \t 121.9 \t \t 0.1000 \t 1.1460 \t 0.6423 \t 1.6246 \t \t 0.3846 \t \t 1.1023 \t 0.6340 \t 1.5735 \t \t 0.4042\n",
            "[2021/04/06 23:03:12] - 10 \t 667.7 \t \t 121.9 \t \t 0.1000 \t 1.1280 \t 0.6493 \t 1.6126 \t \t 0.3885 \t \t 1.0565 \t 0.6474 \t 1.5796 \t \t 0.4051\n",
            "[2021/04/06 23:16:22] - 11 \t 667.5 \t \t 121.7 \t \t 0.1000 \t 1.0998 \t 0.6656 \t 1.5933 \t \t 0.3964 \t \t 1.0670 \t 0.6483 \t 1.5571 \t \t 0.4072\n",
            "[2021/04/06 23:29:31] - 12 \t 667.0 \t \t 121.7 \t \t 0.1000 \t 1.0794 \t 0.6722 \t 1.5784 \t \t 0.4003 \t \t 1.0779 \t 0.6512 \t 1.5559 \t \t 0.4233\n",
            "[2021/04/06 23:42:41] - 13 \t 667.1 \t \t 121.9 \t \t 0.1000 \t 1.0637 \t 0.6791 \t 1.5681 \t \t 0.4045 \t \t 1.0543 \t 0.6746 \t 1.5309 \t \t 0.4278\n",
            "[2021/04/06 23:55:50] - 14 \t 666.9 \t \t 121.9 \t \t 0.1000 \t 1.0375 \t 0.6895 \t 1.5496 \t \t 0.4111 \t \t 1.0108 \t 0.6614 \t 1.5119 \t \t 0.4373\n",
            "[2021/04/07 00:08:59] - 15 \t 666.6 \t \t 121.7 \t \t 0.1000 \t 1.0233 \t 0.6970 \t 1.5401 \t \t 0.4160 \t \t 1.0044 \t 0.6799 \t 1.5036 \t \t 0.4373\n"
          ],
          "name": "stdout"
        }
      ]
    },
    {
      "cell_type": "code",
      "metadata": {
        "id": "aql4dwQSGDt5",
        "colab": {
          "base_uri": "https://localhost:8080/"
        },
        "outputId": "6237f48f-c093-45e3-f75d-7187956b99c1"
      },
      "source": [
        "!python robust_overfitting/train_cifar.py --epochs 50 --resume 15 --fname '/content/gdrive/My Drive/SecProj'"
      ],
      "execution_count": null,
      "outputs": [
        {
          "output_type": "stream",
          "text": [
            "[2021/04/07 00:37:34] - Namespace(attack='pgd', attack_iters=10, batch_size=128, chkpt_iters=10, cutout=False, cutout_len=None, data_dir='../cifar-data', epochs=50, epsilon=8, eval=False, fgsm_alpha=1.25, fgsm_init='random', fname='/content/gdrive/My Drive/SecProj', half=False, l1=0, l2=0, lr_drop_epoch=100, lr_max=0.1, lr_one_drop=0.01, lr_schedule='piecewise', mixup=False, mixup_alpha=None, model='PreActResNet18', norm='l_inf', pgd_alpha=2, restarts=1, resume=15, seed=0, val=False, width_factor=10)\n",
            "Downloading https://www.cs.toronto.edu/~kriz/cifar-10-python.tar.gz to ../cifar-data/cifar-10-python.tar.gz\n",
            "170499072it [00:01, 87811589.46it/s]                   \n",
            "Extracting ../cifar-data/cifar-10-python.tar.gz to ../cifar-data\n",
            "Files already downloaded and verified\n",
            "tcmalloc: large alloc 1920000000 bytes == 0x55a64aabc000 @  0x7f40947c41e7 0x7f409224446e 0x7f4092294c7b 0x7f4092294d18 0x7f4092350d79 0x7f4092353e4c 0x7f4092472e7f 0x7f4092478fb5 0x7f409247ae3d 0x7f409247c516 0x55a593a622c0 0x55a593a61e99 0x7f409235b4d8 0x55a593a44583 0x55a593b4afb6 0x55a593ad2a39 0x55a593acfe0d 0x55a593a6277a 0x55a593ad0a45 0x55a593acfb0e 0x55a593acf813 0x55a593b99592 0x55a593b9990d 0x55a593b997b6 0x55a593b71103 0x55a593b70dac 0x7f40935aebf7 0x55a593b70c8a\n",
            "[2021/04/07 00:37:43] - Resuming at epoch 15\n",
            "[2021/04/07 00:37:44] - Epoch \t Train Time \t Test Time \t LR \t \t Train Loss \t Train Acc \t Train Robust Loss \t Train Robust Acc \t Test Loss \t Test Acc \t Test Robust Loss \t Test Robust Acc\n",
            "[2021/04/07 00:51:19] - 15 \t 688.8 \t \t 126.2 \t \t 0.1000 \t 1.0229 \t 0.6960 \t 1.5390 \t \t 0.4192 \t \t 1.0160 \t 0.6532 \t 1.5369 \t \t 0.4173\n",
            "[2021/04/07 01:05:00] - 16 \t 695.3 \t \t 125.6 \t \t 0.1000 \t 1.0167 \t 0.6963 \t 1.5358 \t \t 0.4206 \t \t 1.0111 \t 0.6994 \t 1.5032 \t \t 0.4327\n",
            "[2021/04/07 01:18:40] - 17 \t 694.6 \t \t 126.1 \t \t 0.1000 \t 1.0052 \t 0.7037 \t 1.5283 \t \t 0.4211 \t \t 0.9952 \t 0.7005 \t 1.5017 \t \t 0.4355\n",
            "[2021/04/07 01:32:20] - 18 \t 693.8 \t \t 125.7 \t \t 0.1000 \t 0.9906 \t 0.7088 \t 1.5173 \t \t 0.4241 \t \t 1.0206 \t 0.6647 \t 1.5085 \t \t 0.4358\n",
            "[2021/04/07 01:46:01] - 19 \t 694.9 \t \t 126.3 \t \t 0.1000 \t 0.9796 \t 0.7165 \t 1.5086 \t \t 0.4276 \t \t 0.9957 \t 0.7109 \t 1.4848 \t \t 0.4542\n",
            "[2021/04/07 01:59:47] - 20 \t 699.1 \t \t 126.8 \t \t 0.1000 \t 0.9719 \t 0.7193 \t 1.5033 \t \t 0.4293 \t \t 0.9519 \t 0.7058 \t 1.4790 \t \t 0.4466\n",
            "[2021/04/07 02:13:29] - 21 \t 695.5 \t \t 126.3 \t \t 0.1000 \t 0.9593 \t 0.7227 \t 1.4929 \t \t 0.4337 \t \t 0.9673 \t 0.7128 \t 1.4691 \t \t 0.4520\n",
            "[2021/04/07 02:27:10] - 22 \t 694.3 \t \t 126.2 \t \t 0.1000 \t 0.9551 \t 0.7229 \t 1.4917 \t \t 0.4338 \t \t 0.9287 \t 0.7186 \t 1.4741 \t \t 0.4402\n",
            "[2021/04/07 02:40:50] - 23 \t 694.9 \t \t 125.7 \t \t 0.1000 \t 0.9493 \t 0.7267 \t 1.4854 \t \t 0.4381 \t \t 0.9527 \t 0.6840 \t 1.4835 \t \t 0.4336\n",
            "[2021/04/07 02:54:30] - 24 \t 693.7 \t \t 125.5 \t \t 0.0100 \t 0.9374 \t 0.7322 \t 1.4787 \t \t 0.4370 \t \t 0.9444 \t 0.6956 \t 1.4717 \t \t 0.4405\n",
            "[2021/04/07 03:08:10] - 25 \t 695.1 \t \t 125.7 \t \t 0.0100 \t 0.8332 \t 0.7668 \t 1.3180 \t \t 0.4969 \t \t 0.7582 \t 0.7760 \t 1.3116 \t \t 0.5032\n",
            "[2021/04/07 03:21:52] - 26 \t 695.6 \t \t 126.0 \t \t 0.0100 \t 0.7596 \t 0.7912 \t 1.2612 \t \t 0.5121 \t \t 0.7357 \t 0.7862 \t 1.3003 \t \t 0.5070\n",
            "[2021/04/07 03:35:31] - 27 \t 693.2 \t \t 125.6 \t \t 0.0100 \t 0.7341 \t 0.7998 \t 1.2406 \t \t 0.5194 \t \t 0.7173 \t 0.7906 \t 1.2971 \t \t 0.5025\n",
            "[2021/04/07 03:49:08] - 28 \t 690.8 \t \t 126.6 \t \t 0.0100 \t 0.7128 \t 0.8074 \t 1.2221 \t \t 0.5265 \t \t 0.7423 \t 0.7764 \t 1.2984 \t \t 0.5062\n",
            "[2021/04/07 04:02:51] - 29 \t 696.6 \t \t 125.7 \t \t 0.0100 \t 0.6963 \t 0.8123 \t 1.2078 \t \t 0.5312 \t \t 0.7026 \t 0.7886 \t 1.3008 \t \t 0.5032\n",
            "[2021/04/07 04:16:31] - 30 \t 694.1 \t \t 125.7 \t \t 0.0100 \t 0.6822 \t 0.8177 \t 1.1957 \t \t 0.5333 \t \t 0.6945 \t 0.7964 \t 1.2857 \t \t 0.5088\n"
          ],
          "name": "stdout"
        }
      ]
    },
    {
      "cell_type": "code",
      "metadata": {
        "id": "M42_o_M8wxwl"
      },
      "source": [
        ""
      ],
      "execution_count": null,
      "outputs": []
    }
  ]
}