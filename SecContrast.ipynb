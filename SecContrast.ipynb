{
  "nbformat": 4,
  "nbformat_minor": 0,
  "metadata": {
    "colab": {
      "name": "SecContrast.ipynb",
      "provenance": [],
      "collapsed_sections": [],
      "machine_shape": "hm"
    },
    "kernelspec": {
      "name": "python3",
      "display_name": "Python 3"
    },
    "language_info": {
      "name": "python"
    },
    "accelerator": "GPU"
  },
  "cells": [
    {
      "cell_type": "code",
      "metadata": {
        "colab": {
          "base_uri": "https://localhost:8080/"
        },
        "id": "AKMG4qa0qiu8",
        "outputId": "42726d38-e97d-435b-984c-4c7bb202f91d"
      },
      "source": [
        "from google.colab import drive\n",
        "drive.mount('/content/gdrive')"
      ],
      "execution_count": 1,
      "outputs": [
        {
          "output_type": "stream",
          "text": [
            "Mounted at /content/gdrive\n"
          ],
          "name": "stdout"
        }
      ]
    },
    {
      "cell_type": "code",
      "metadata": {
        "id": "BPrJ4uyCqjjR",
        "colab": {
          "base_uri": "https://localhost:8080/"
        },
        "outputId": "3b4b12a9-79bd-429d-c1a0-50a6ad224415"
      },
      "source": [
        "!ls /content/gdrive/My\\ Drive/SecProj2_2\n",
        "PATH = '/content/gdrive/My Drive/SecProj2_2'"
      ],
      "execution_count": 2,
      "outputs": [
        {
          "output_type": "stream",
          "text": [
            "model_0.pth   model_21.pth  model_33.pth    opt_11.pth\topt_23.pth  opt_35.pth\n",
            "model_10.pth  model_22.pth  model_34.pth    opt_12.pth\topt_24.pth  opt_3.pth\n",
            "model_11.pth  model_23.pth  model_35.pth    opt_13.pth\topt_25.pth  opt_4.pth\n",
            "model_12.pth  model_24.pth  model_3.pth     opt_14.pth\topt_26.pth  opt_5.pth\n",
            "model_13.pth  model_25.pth  model_4.pth     opt_15.pth\topt_27.pth  opt_6.pth\n",
            "model_14.pth  model_26.pth  model_5.pth     opt_16.pth\topt_28.pth  opt_7.pth\n",
            "model_15.pth  model_27.pth  model_6.pth     opt_17.pth\topt_29.pth  opt_8.pth\n",
            "model_16.pth  model_28.pth  model_7.pth     opt_18.pth\topt_2.pth   opt_9.pth\n",
            "model_17.pth  model_29.pth  model_8.pth     opt_19.pth\topt_30.pth  output.log\n",
            "model_18.pth  model_2.pth   model_9.pth     opt_1.pth\topt_31.pth\n",
            "model_19.pth  model_30.pth  model_best.pth  opt_20.pth\topt_32.pth\n",
            "model_1.pth   model_31.pth  opt_0.pth\t    opt_21.pth\topt_33.pth\n",
            "model_20.pth  model_32.pth  opt_10.pth\t    opt_22.pth\topt_34.pth\n"
          ],
          "name": "stdout"
        }
      ]
    },
    {
      "cell_type": "code",
      "metadata": {
        "colab": {
          "base_uri": "https://localhost:8080/"
        },
        "id": "yMaroSkyqzOd",
        "outputId": "0eee9b37-16d4-4d51-a934-548d000069ee"
      },
      "source": [
        "!git clone https://github.com/Vishnusai4/ContrastiveSamplingRobustness.git"
      ],
      "execution_count": 3,
      "outputs": [
        {
          "output_type": "stream",
          "text": [
            "Cloning into 'ContrastiveSamplingRobustness'...\n",
            "remote: Enumerating objects: 232, done.\u001b[K\n",
            "remote: Counting objects: 100% (232/232), done.\u001b[K\n",
            "remote: Compressing objects: 100% (127/127), done.\u001b[K\n",
            "remote: Total 232 (delta 27), reused 223 (delta 18), pack-reused 0\u001b[K\n",
            "Receiving objects: 100% (232/232), 630.51 KiB | 8.52 MiB/s, done.\n",
            "Resolving deltas: 100% (27/27), done.\n"
          ],
          "name": "stdout"
        }
      ]
    },
    {
      "cell_type": "code",
      "metadata": {
        "colab": {
          "base_uri": "https://localhost:8080/"
        },
        "id": "i5Uaapk7q19T",
        "outputId": "61d02f82-02a4-4dd3-b994-55f0d0b4801c"
      },
      "source": [
        "!python ContrastiveSamplingRobustness/train_cifar.py --epochs 50 "
      ],
      "execution_count": null,
      "outputs": [
        {
          "output_type": "stream",
          "text": [
            "[2021/04/12 15:42:27] - Namespace(attack='pgd', attack_iters=10, batch_size=128, chkpt_iters=10, cutout=False, cutout_len=None, data_dir='../cifar-data', epochs=50, epsilon=8, eval=False, fgsm_alpha=1.25, fgsm_init='random', fname='cifar_model', half=False, l1=0, l2=0, lr_drop_epoch=100, lr_max=0.1, lr_one_drop=0.01, lr_schedule='cosine', mixup=False, mixup_alpha=None, model='PreActResNet18', norm='l_inf', pgd_alpha=2, restarts=1, resume=0, seed=0, val=False, width_factor=10)\n",
            "Files already downloaded and verified\n",
            "Files already downloaded and verified\n",
            "/usr/local/lib/python3.7/dist-packages/torch/utils/data/dataloader.py:477: UserWarning: This DataLoader will create 256 worker processes in total. Our suggested max number of worker in current system is 4, which is smaller than what this DataLoader is going to create. Please be aware that excessive worker creation might get DataLoader running slow or even freeze, lower the worker number to avoid potential slowness/freeze if necessary.\n",
            "  cpuset_checked))\n",
            "[2021/04/12 15:42:29] - Epoch \t Train Time \t Test Time \t LR \t \t Train Loss \t Train Acc \t Train Robust Loss \t Train Robust Acc \t Test Loss \t Test Acc \t Test Robust Loss \t Test Robust Acc\n",
            "[2021/04/12 15:55:24] - 0 \t 647.5 \t \t 127.5 \t \t 0.0999 \t 2.6924 \t 0.1972 \t 5.0201 \t \t 0.1515 \t \t 4.6885 \t 0.2566 \t 4.8736 \t \t 0.1956\n",
            "[2021/04/12 16:08:18] - 1 \t 644.7 \t \t 128.2 \t \t 0.0996 \t 2.6370 \t 0.2789 \t 4.8358 \t \t 0.2002 \t \t 4.5464 \t 0.2965 \t 4.7713 \t \t 0.2195\n",
            "[2021/04/12 16:21:11] - 2 \t 645.4 \t \t 127.3 \t \t 0.0991 \t 2.4620 \t 0.3169 \t 4.6810 \t \t 0.2215 \t \t 4.2437 \t 0.3283 \t 4.6112 \t \t 0.2372\n",
            "[2021/04/12 16:34:03] - 3 \t 643.6 \t \t 128.3 \t \t 0.0984 \t 2.2534 \t 0.3448 \t 4.5333 \t \t 0.2359 \t \t 3.9616 \t 0.3673 \t 4.4472 \t \t 0.2540\n",
            "[2021/04/12 16:46:54] - 4 \t 643.0 \t \t 127.3 \t \t 0.0976 \t 2.0973 \t 0.3730 \t 4.4159 \t \t 0.2485 \t \t 3.8319 \t 0.3888 \t 4.3716 \t \t 0.2611\n",
            "[2021/04/12 16:59:44] - 5 \t 642.3 \t \t 127.5 \t \t 0.0965 \t 1.9694 \t 0.3969 \t 4.3196 \t \t 0.2597 \t \t 3.6502 \t 0.3969 \t 4.3152 \t \t 0.2658\n",
            "[2021/04/12 17:12:34] - 6 \t 643.0 \t \t 126.5 \t \t 0.0952 \t 1.8354 \t 0.4227 \t 4.2285 \t \t 0.2705 \t \t 3.4143 \t 0.4281 \t 4.1842 \t \t 0.2743\n",
            "[2021/04/12 17:25:26] - 7 \t 643.7 \t \t 127.2 \t \t 0.0938 \t 1.7136 \t 0.4450 \t 4.1396 \t \t 0.2806 \t \t 3.2630 \t 0.4479 \t 4.1055 \t \t 0.2840\n",
            "[2021/04/12 17:38:16] - 8 \t 642.5 \t \t 127.4 \t \t 0.0922 \t 1.6160 \t 0.4646 \t 4.0644 \t \t 0.2911 \t \t 3.2028 \t 0.4673 \t 4.0551 \t \t 0.2967\n",
            "[2021/04/12 17:51:07] - 9 \t 643.1 \t \t 127.6 \t \t 0.0905 \t 1.5386 \t 0.4841 \t 3.9943 \t \t 0.2986 \t \t 3.1216 \t 0.4794 \t 3.9964 \t \t 0.2989\n"
          ],
          "name": "stdout"
        }
      ]
    },
    {
      "cell_type": "code",
      "metadata": {
        "id": "B2gH5zXarLu6",
        "colab": {
          "base_uri": "https://localhost:8080/"
        },
        "outputId": "bcf42313-979c-4d4e-c156-bad376ee1d2e"
      },
      "source": [
        "!python ContrastiveSamplingRobustness/train_cifar.py --epochs 50 --resume 10"
      ],
      "execution_count": null,
      "outputs": [
        {
          "output_type": "stream",
          "text": [
            "[2021/04/12 18:32:49] - Namespace(attack='pgd', attack_iters=10, batch_size=128, chkpt_iters=10, cutout=False, cutout_len=None, data_dir='../cifar-data', epochs=50, epsilon=8, eval=False, fgsm_alpha=1.25, fgsm_init='random', fname='cifar_model', half=False, l1=0, l2=0, lr_drop_epoch=100, lr_max=0.1, lr_one_drop=0.01, lr_schedule='cosine', mixup=False, mixup_alpha=None, model='PreActResNet18', norm='l_inf', pgd_alpha=2, restarts=1, resume=10, seed=0, val=False, width_factor=10)\n",
            "Files already downloaded and verified\n",
            "Files already downloaded and verified\n",
            "/usr/local/lib/python3.7/dist-packages/torch/utils/data/dataloader.py:477: UserWarning: This DataLoader will create 256 worker processes in total. Our suggested max number of worker in current system is 4, which is smaller than what this DataLoader is going to create. Please be aware that excessive worker creation might get DataLoader running slow or even freeze, lower the worker number to avoid potential slowness/freeze if necessary.\n",
            "  cpuset_checked))\n",
            "[2021/04/12 18:32:55] - Resuming at epoch 10\n",
            "[2021/04/12 18:32:57] - Epoch \t Train Time \t Test Time \t LR \t \t Train Loss \t Train Acc \t Train Robust Loss \t Train Robust Acc \t Test Loss \t Test Acc \t Test Robust Loss \t Test Robust Acc\n",
            "[2021/04/12 18:45:10] - 10 \t 613.7 \t \t 118.7 \t \t 0.0885 \t 1.4742 \t 0.4970 \t 3.9428 \t \t 0.3052 \t \t 3.0477 \t 0.4889 \t 3.9336 \t \t 0.3186\n",
            "[2021/04/12 18:57:26] - 11 \t 612.7 \t \t 119.4 \t \t 0.0864 \t 1.4253 \t 0.5105 \t 3.8949 \t \t 0.3105 \t \t 3.0610 \t 0.4861 \t 3.9517 \t \t 0.3029\n",
            "[2021/04/12 19:09:38] - 12 \t 611.6 \t \t 119.8 \t \t 0.0842 \t 1.3833 \t 0.5207 \t 3.8496 \t \t 0.3171 \t \t 2.8172 \t 0.5155 \t 3.8561 \t \t 0.3101\n",
            "[2021/04/12 19:21:48] - 13 \t 611.3 \t \t 118.7 \t \t 0.0819 \t 1.3428 \t 0.5296 \t 3.8157 \t \t 0.3214 \t \t 2.7802 \t 0.5273 \t 3.8057 \t \t 0.3263\n",
            "[2021/04/12 19:33:58] - 14 \t 611.0 \t \t 118.3 \t \t 0.0794 \t 1.3049 \t 0.5398 \t 3.7726 \t \t 0.3276 \t \t 2.8833 \t 0.5214 \t 3.8202 \t \t 0.3158\n",
            "[2021/04/12 19:46:08] - 15 \t 611.3 \t \t 118.6 \t \t 0.0768 \t 1.2715 \t 0.5478 \t 3.7335 \t \t 0.3323 \t \t 2.7749 \t 0.5366 \t 3.8091 \t \t 0.3236\n",
            "[2021/04/12 19:58:17] - 16 \t 611.0 \t \t 118.2 \t \t 0.0741 \t 1.2542 \t 0.5548 \t 3.7133 \t \t 0.3362 \t \t 2.6714 \t 0.5347 \t 3.7203 \t \t 0.3310\n",
            "[2021/04/12 20:10:28] - 17 \t 611.4 \t \t 118.9 \t \t 0.0713 \t 1.2166 \t 0.5644 \t 3.6768 \t \t 0.3414 \t \t 2.6492 \t 0.5391 \t 3.6992 \t \t 0.3309\n",
            "[2021/04/12 20:22:40] - 18 \t 612.4 \t \t 119.1 \t \t 0.0684 \t 1.1976 \t 0.5686 \t 3.6500 \t \t 0.3455 \t \t 2.6189 \t 0.5509 \t 3.6911 \t \t 0.3409\n",
            "[2021/04/12 20:34:54] - 19 \t 613.9 \t \t 119.6 \t \t 0.0655 \t 1.1710 \t 0.5783 \t 3.6127 \t \t 0.3510 \t \t 2.5935 \t 0.5518 \t 3.6625 \t \t 0.3357\n",
            "[2021/04/12 20:47:06] - 20 \t 611.9 \t \t 119.6 \t \t 0.0624 \t 1.1509 \t 0.5827 \t 3.5902 \t \t 0.3535 \t \t 2.5692 \t 0.5514 \t 3.6382 \t \t 0.3351\n",
            "[2021/04/12 20:59:21] - 21 \t 614.4 \t \t 120.3 \t \t 0.0594 \t 1.1462 \t 0.5895 \t 3.5749 \t \t 0.3582 \t \t 2.5712 \t 0.5657 \t 3.6014 \t \t 0.3417\n",
            "[2021/04/12 21:11:33] - 22 \t 611.9 \t \t 119.6 \t \t 0.0563 \t 1.1237 \t 0.5973 \t 3.5495 \t \t 0.3626 \t \t 2.5353 \t 0.5599 \t 3.5955 \t \t 0.3419\n",
            "[2021/04/12 21:23:46] - 23 \t 612.4 \t \t 120.5 \t \t 0.0531 \t 1.1155 \t 0.6029 \t 3.5315 \t \t 0.3678 \t \t 2.4600 \t 0.5757 \t 3.5557 \t \t 0.3499\n",
            "[2021/04/12 21:35:59] - 24 \t 612.6 \t \t 120.3 \t \t 0.0500 \t 1.0948 \t 0.6093 \t 3.4955 \t \t 0.3713 \t \t 2.4510 \t 0.5711 \t 3.5578 \t \t 0.3532\n",
            "[2021/04/12 21:48:15] - 25 \t 614.4 \t \t 120.6 \t \t 0.0469 \t 1.0707 \t 0.6181 \t 3.4617 \t \t 0.3781 \t \t 2.4821 \t 0.5776 \t 3.5466 \t \t 0.3594\n",
            "[2021/04/12 22:00:28] - 26 \t 613.5 \t \t 119.3 \t \t 0.0437 \t 1.0575 \t 0.6225 \t 3.4426 \t \t 0.3803 \t \t 2.3886 \t 0.5832 \t 3.5374 \t \t 0.3542\n",
            "[2021/04/12 22:12:41] - 27 \t 613.6 \t \t 118.7 \t \t 0.0406 \t 1.0313 \t 0.6303 \t 3.4069 \t \t 0.3876 \t \t 2.3661 \t 0.5931 \t 3.5040 \t \t 0.3537\n",
            "[2021/04/12 22:24:51] - 28 \t 612.3 \t \t 118.3 \t \t 0.0376 \t 1.0148 \t 0.6357 \t 3.3726 \t \t 0.3924 \t \t 2.2941 \t 0.5906 \t 3.4469 \t \t 0.3625\n",
            "[2021/04/12 22:37:03] - 29 \t 612.2 \t \t 118.6 \t \t 0.0345 \t 0.9970 \t 0.6447 \t 3.3432 \t \t 0.4001 \t \t 2.2533 \t 0.5973 \t 3.4849 \t \t 0.3562\n",
            "[2021/04/12 22:49:15] - 30 \t 613.3 \t \t 119.0 \t \t 0.0316 \t 0.9919 \t 0.6509 \t 3.3131 \t \t 0.4033 \t \t 2.2876 \t 0.6003 \t 3.4405 \t \t 0.3546\n",
            "[2021/04/12 23:01:26] - 31 \t 612.4 \t \t 118.3 \t \t 0.0287 \t 0.9844 \t 0.6582 \t 3.2988 \t \t 0.4109 \t \t 2.3160 \t 0.5980 \t 3.4444 \t \t 0.3553\n",
            "[2021/04/12 23:13:37] - 32 \t 611.4 \t \t 119.0 \t \t 0.0259 \t 0.9713 \t 0.6662 \t 3.2682 \t \t 0.4189 \t \t 2.2636 \t 0.6053 \t 3.4404 \t \t 0.3530\n",
            "[2021/04/12 23:25:50] - 33 \t 612.6 \t \t 119.9 \t \t 0.0232 \t 0.9548 \t 0.6736 \t 3.2323 \t \t 0.4260 \t \t 2.1687 \t 0.6109 \t 3.4219 \t \t 0.3579\n",
            "[2021/04/12 23:38:00] - 34 \t 611.9 \t \t 118.2 \t \t 0.0206 \t 0.9207 \t 0.6815 \t 3.1776 \t \t 0.4339 \t \t 2.1596 \t 0.6095 \t 3.3946 \t \t 0.3572\n",
            "[2021/04/12 23:50:12] - 35 \t 612.6 \t \t 119.5 \t \t 0.0181 \t 0.9322 \t 0.6870 \t 3.1735 \t \t 0.4436 \t \t 2.1869 \t 0.6138 \t 3.4090 \t \t 0.3615\n",
            "[2021/04/13 00:02:24] - 36 \t 612.6 \t \t 118.4 \t \t 0.0158 \t 0.9116 \t 0.6946 \t 3.1182 \t \t 0.4549 \t \t 2.2023 \t 0.6099 \t 3.4104 \t \t 0.3509\n",
            "[2021/04/13 00:14:34] - 37 \t 611.5 \t \t 118.5 \t \t 0.0136 \t 0.8958 \t 0.7017 \t 3.0860 \t \t 0.4665 \t \t 2.0647 \t 0.6253 \t 3.3625 \t \t 0.3487\n",
            "[2021/04/13 00:26:44] - 38 \t 611.4 \t \t 118.2 \t \t 0.0115 \t 0.8825 \t 0.7090 \t 3.0419 \t \t 0.4791 \t \t 2.0621 \t 0.6229 \t 3.3692 \t \t 0.3485\n"
          ],
          "name": "stdout"
        }
      ]
    },
    {
      "cell_type": "code",
      "metadata": {
        "id": "yj5ocdOCYHqD"
      },
      "source": [
        ""
      ],
      "execution_count": null,
      "outputs": []
    },
    {
      "cell_type": "code",
      "metadata": {
        "id": "hdS7IYpxYHsH",
        "colab": {
          "base_uri": "https://localhost:8080/"
        },
        "outputId": "ceecbcce-7e1e-4a0c-d495-444cd704b5e3"
      },
      "source": [
        "!python ContrastiveSamplingRobustness/train_cifar.py --epochs 50 "
      ],
      "execution_count": null,
      "outputs": [
        {
          "output_type": "stream",
          "text": [
            "[2021/04/16 05:44:02] - Namespace(attack='pgd', attack_iters=10, batch_size=128, chkpt_iters=10, cutout=False, cutout_len=None, data_dir='../cifar-data', epochs=50, epsilon=8, eval=False, fgsm_alpha=1.25, fgsm_init='random', fname='cifar_model', half=False, l1=0, l2=0, lr_drop_epoch=100, lr_max=0.1, lr_one_drop=0.01, lr_schedule='cosine', mixup=False, mixup_alpha=None, model='PreActResNet18', norm='l_inf', pgd_alpha=2, restarts=1, resume=0, seed=0, val=False, width_factor=10)\n",
            "Downloading https://www.cs.toronto.edu/~kriz/cifar-10-python.tar.gz to ../cifar-data/cifar-10-python.tar.gz\n",
            "170499072it [00:10, 15874565.60it/s]                   \n",
            "Extracting ../cifar-data/cifar-10-python.tar.gz to ../cifar-data\n",
            "Files already downloaded and verified\n",
            "/usr/local/lib/python3.7/dist-packages/torch/utils/data/dataloader.py:477: UserWarning: This DataLoader will create 256 worker processes in total. Our suggested max number of worker in current system is 4, which is smaller than what this DataLoader is going to create. Please be aware that excessive worker creation might get DataLoader running slow or even freeze, lower the worker number to avoid potential slowness/freeze if necessary.\n",
            "  cpuset_checked))\n",
            "[2021/04/16 05:44:18] - Epoch \t Train Time \t Test Time \t LR \t \t Train Loss \t Train Acc \t Train Robust Loss \t Train Robust Acc \t Test Loss \t Test Acc \t Test Robust Loss \t Test Robust Acc\n",
            "[2021/04/16 05:56:29] - 0 \t 612.6 \t \t 118.7 \t \t 0.0999 \t 2.6796 \t 0.2044 \t 4.9909 \t \t 0.1537 \t \t 4.6569 \t 0.2710 \t 4.8415 \t \t 0.2033\n",
            "[2021/04/16 06:08:41] - 1 \t 612.4 \t \t 119.5 \t \t 0.0996 \t 2.5046 \t 0.2858 \t 4.7471 \t \t 0.2006 \t \t 4.3471 \t 0.2946 \t 4.6334 \t \t 0.2191\n",
            "[2021/04/16 06:20:55] - 2 \t 613.7 \t \t 120.3 \t \t 0.0991 \t 2.2202 \t 0.3277 \t 4.5207 \t \t 0.2217 \t \t 3.9524 \t 0.3459 \t 4.4443 \t \t 0.2431\n",
            "[2021/04/16 06:33:08] - 3 \t 613.7 \t \t 118.6 \t \t 0.0984 \t 2.0546 \t 0.3571 \t 4.3973 \t \t 0.2357 \t \t 3.7645 \t 0.3772 \t 4.3078 \t \t 0.2510\n",
            "[2021/04/16 06:45:22] - 4 \t 613.8 \t \t 119.6 \t \t 0.0976 \t 1.8879 \t 0.3852 \t 4.2717 \t \t 0.2467 \t \t 3.6298 \t 0.3969 \t 4.2056 \t \t 0.2571\n",
            "[2021/04/16 06:57:35] - 5 \t 614.1 \t \t 119.1 \t \t 0.0965 \t 1.7177 \t 0.4069 \t 4.1497 \t \t 0.2591 \t \t 3.4249 \t 0.4028 \t 4.1448 \t \t 0.2642\n",
            "[2021/04/16 07:09:50] - 6 \t 615.5 \t \t 119.2 \t \t 0.0952 \t 1.6032 \t 0.4303 \t 4.0643 \t \t 0.2670 \t \t 3.1695 \t 0.4397 \t 3.9902 \t \t 0.2681\n",
            "[2021/04/16 07:22:04] - 7 \t 614.2 \t \t 119.1 \t \t 0.0938 \t 1.4874 \t 0.4497 \t 3.9731 \t \t 0.2762 \t \t 3.0697 \t 0.4528 \t 3.9360 \t \t 0.2784\n"
          ],
          "name": "stdout"
        }
      ]
    },
    {
      "cell_type": "code",
      "metadata": {
        "id": "xWl1PC5zYHu3",
        "colab": {
          "base_uri": "https://localhost:8080/"
        },
        "outputId": "7987d67b-ef68-4775-8ce9-f4289c878086"
      },
      "source": [
        "!python ContrastiveSamplingRobustness/train_cifar.py --epochs 50 --resume 7"
      ],
      "execution_count": null,
      "outputs": [
        {
          "output_type": "stream",
          "text": [
            "[2021/04/20 00:31:36] - Namespace(attack='pgd', attack_iters=10, batch_size=128, chkpt_iters=10, cutout=False, cutout_len=None, data_dir='../cifar-data', epochs=50, epsilon=8, eval=False, fgsm_alpha=1.25, fgsm_init='random', fname='cifar_model', half=False, l1=0, l2=0, lr_drop_epoch=100, lr_max=0.1, lr_one_drop=0.01, lr_schedule='cosine', mixup=False, mixup_alpha=None, model='PreActResNet18', norm='l_inf', pgd_alpha=2, restarts=1, resume=7, seed=0, val=False, width_factor=10)\n",
            "Files already downloaded and verified\n",
            "Files already downloaded and verified\n",
            "/usr/local/lib/python3.7/dist-packages/torch/utils/data/dataloader.py:477: UserWarning: This DataLoader will create 256 worker processes in total. Our suggested max number of worker in current system is 4, which is smaller than what this DataLoader is going to create. Please be aware that excessive worker creation might get DataLoader running slow or even freeze, lower the worker number to avoid potential slowness/freeze if necessary.\n",
            "  cpuset_checked))\n",
            "[2021/04/20 00:31:38] - Resuming at epoch 7\n",
            "[2021/04/20 00:31:39] - Epoch \t Train Time \t Test Time \t LR \t \t Train Loss \t Train Acc \t Train Robust Loss \t Train Robust Acc \t Test Loss \t Test Acc \t Test Robust Loss \t Test Robust Acc\n",
            "[2021/04/20 00:43:46] - 7 \t 608.9 \t \t 118.1 \t \t 0.0938 \t 1.4921 \t 0.4497 \t 3.9752 \t \t 0.2782 \t \t 3.1228 \t 0.4533 \t 3.9380 \t \t 0.2920\n",
            "[2021/04/20 00:55:58] - 8 \t 608.7 \t \t 120.3 \t \t 0.0922 \t 1.4103 \t 0.4678 \t 3.9011 \t \t 0.2829 \t \t 3.1382 \t 0.4560 \t 3.9224 \t \t 0.2854\n",
            "[2021/04/20 01:08:07] - 9 \t 608.6 \t \t 119.1 \t \t 0.0905 \t 1.3442 \t 0.4824 \t 3.8367 \t \t 0.2920 \t \t 2.8889 \t 0.4832 \t 3.8430 \t \t 0.2929\n",
            "[2021/04/20 01:20:18] - 10 \t 609.4 \t \t 118.8 \t \t 0.0885 \t 1.2921 \t 0.4941 \t 3.7893 \t \t 0.2969 \t \t 2.8043 \t 0.5005 \t 3.7502 \t \t 0.3063\n",
            "[2021/04/20 01:32:24] - 11 \t 608.7 \t \t 117.5 \t \t 0.0864 \t 1.2427 \t 0.5082 \t 3.7339 \t \t 0.3015 \t \t 2.9234 \t 0.4941 \t 3.7793 \t \t 0.2949\n",
            "[2021/04/20 01:44:31] - 12 \t 608.6 \t \t 118.0 \t \t 0.0842 \t 1.1981 \t 0.5176 \t 3.6805 \t \t 0.3081 \t \t 2.7820 \t 0.5126 \t 3.7476 \t \t 0.3017\n",
            "[2021/04/20 01:56:37] - 13 \t 607.8 \t \t 117.9 \t \t 0.0819 \t 1.1793 \t 0.5279 \t 3.6576 \t \t 0.3131 \t \t 2.6799 \t 0.5152 \t 3.6447 \t \t 0.3086\n",
            "[2021/04/20 02:08:44] - 14 \t 609.0 \t \t 117.7 \t \t 0.0794 \t 1.1473 \t 0.5364 \t 3.6237 \t \t 0.3191 \t \t 2.6653 \t 0.5169 \t 3.6398 \t \t 0.3120\n",
            "[2021/04/20 02:20:51] - 15 \t 608.5 \t \t 118.0 \t \t 0.0768 \t 1.1264 \t 0.5437 \t 3.5905 \t \t 0.3229 \t \t 2.5912 \t 0.5373 \t 3.6416 \t \t 0.3210\n",
            "[2021/04/20 02:33:00] - 16 \t 609.0 \t \t 119.7 \t \t 0.0741 \t 1.1041 \t 0.5525 \t 3.5568 \t \t 0.3292 \t \t 2.6449 \t 0.5275 \t 3.6352 \t \t 0.3140\n",
            "[2021/04/20 02:45:08] - 17 \t 608.8 \t \t 119.6 \t \t 0.0713 \t 1.0827 \t 0.5586 \t 3.5304 \t \t 0.3306 \t \t 2.5575 \t 0.5331 \t 3.5688 \t \t 0.3234\n",
            "[2021/04/20 02:57:16] - 18 \t 608.7 \t \t 119.2 \t \t 0.0684 \t 1.0700 \t 0.5673 \t 3.5096 \t \t 0.3351 \t \t 2.5787 \t 0.5473 \t 3.5339 \t \t 0.3270\n",
            "[2021/04/20 03:09:24] - 19 \t 608.8 \t \t 118.2 \t \t 0.0655 \t 1.0496 \t 0.5734 \t 3.4839 \t \t 0.3398 \t \t 2.5716 \t 0.5402 \t 3.5268 \t \t 0.3290\n",
            "[2021/04/20 03:21:30] - 20 \t 608.4 \t \t 117.9 \t \t 0.0624 \t 1.0429 \t 0.5799 \t 3.4679 \t \t 0.3441 \t \t 2.4598 \t 0.5611 \t 3.4924 \t \t 0.3339\n",
            "[2021/04/20 03:33:37] - 21 \t 608.5 \t \t 117.7 \t \t 0.0594 \t 1.0201 \t 0.5853 \t 3.4314 \t \t 0.3492 \t \t 2.4197 \t 0.5531 \t 3.4868 \t \t 0.3364\n",
            "[2021/04/20 03:45:46] - 22 \t 609.5 \t \t 119.0 \t \t 0.0563 \t 0.9989 \t 0.5937 \t 3.3987 \t \t 0.3532 \t \t 2.4569 \t 0.5595 \t 3.4624 \t \t 0.3415\n",
            "[2021/04/20 03:57:52] - 23 \t 607.7 \t \t 118.3 \t \t 0.0531 \t 0.9848 \t 0.5995 \t 3.3793 \t \t 0.3556 \t \t 2.3751 \t 0.5698 \t 3.4476 \t \t 0.3399\n",
            "[2021/04/20 04:10:00] - 24 \t 608.9 \t \t 118.5 \t \t 0.0500 \t 0.9627 \t 0.6050 \t 3.3481 \t \t 0.3628 \t \t 2.3623 \t 0.5741 \t 3.4261 \t \t 0.3375\n",
            "[2021/04/20 04:22:07] - 25 \t 607.8 \t \t 119.7 \t \t 0.0469 \t 0.9483 \t 0.6129 \t 3.3142 \t \t 0.3675 \t \t 2.3118 \t 0.5714 \t 3.3796 \t \t 0.3463\n",
            "[2021/04/20 04:34:13] - 26 \t 607.8 \t \t 117.7 \t \t 0.0437 \t 0.9335 \t 0.6210 \t 3.2896 \t \t 0.3742 \t \t 2.2213 \t 0.5841 \t 3.3883 \t \t 0.3413\n",
            "[2021/04/20 04:46:21] - 27 \t 608.8 \t \t 118.8 \t \t 0.0406 \t 0.9328 \t 0.6248 \t 3.2655 \t \t 0.3768 \t \t 2.3053 \t 0.5777 \t 3.3553 \t \t 0.3419\n"
          ],
          "name": "stdout"
        }
      ]
    },
    {
      "cell_type": "code",
      "metadata": {
        "id": "h-We4qipYHxG",
        "colab": {
          "base_uri": "https://localhost:8080/"
        },
        "outputId": "7a2a0c6a-ed71-457f-919f-63d79d23d0c5"
      },
      "source": [
        "!python ContrastiveSamplingRobustness/train_cifar.py --epochs 50 --resume 27 --fname '/content/gdrive/My Drive/SecProj2_2'"
      ],
      "execution_count": null,
      "outputs": [
        {
          "output_type": "stream",
          "text": [
            "[2021/04/21 03:19:30] - Namespace(attack='pgd', attack_iters=10, batch_size=128, chkpt_iters=10, cutout=False, cutout_len=None, data_dir='../cifar-data', epochs=50, epsilon=8, eval=False, fgsm_alpha=1.25, fgsm_init='random', fname='/content/gdrive/My Drive/SecProj2_2', half=False, l1=0, l2=0, lr_drop_epoch=100, lr_max=0.1, lr_one_drop=0.01, lr_schedule='cosine', mixup=False, mixup_alpha=None, model='PreActResNet18', norm='l_inf', pgd_alpha=2, restarts=1, resume=27, seed=0, val=False, width_factor=10)\n",
            "Files already downloaded and verified\n",
            "Files already downloaded and verified\n",
            "/usr/local/lib/python3.7/dist-packages/torch/utils/data/dataloader.py:477: UserWarning: This DataLoader will create 256 worker processes in total. Our suggested max number of worker in current system is 4, which is smaller than what this DataLoader is going to create. Please be aware that excessive worker creation might get DataLoader running slow or even freeze, lower the worker number to avoid potential slowness/freeze if necessary.\n",
            "  cpuset_checked))\n",
            "[2021/04/21 03:19:34] - Resuming at epoch 27\n",
            "[2021/04/21 03:19:36] - Epoch \t Train Time \t Test Time \t LR \t \t Train Loss \t Train Acc \t Train Robust Loss \t Train Robust Acc \t Test Loss \t Test Acc \t Test Robust Loss \t Test Robust Acc\n",
            "[2021/04/21 03:31:46] - 27 \t 611.7 \t \t 118.0 \t \t 0.0406 \t 0.9324 \t 0.6257 \t 3.2760 \t \t 0.3766 \t \t 2.3304 \t 0.5768 \t 3.3507 \t \t 0.3495\n",
            "[2021/04/21 03:43:57] - 28 \t 610.1 \t \t 118.4 \t \t 0.0376 \t 0.9197 \t 0.6329 \t 3.2450 \t \t 0.3842 \t \t 2.3242 \t 0.5777 \t 3.3918 \t \t 0.3473\n",
            "[2021/04/21 03:56:06] - 29 \t 609.2 \t \t 117.3 \t \t 0.0345 \t 0.9050 \t 0.6383 \t 3.2174 \t \t 0.3903 \t \t 2.1970 \t 0.5897 \t 3.3439 \t \t 0.3412\n",
            "[2021/04/21 04:08:15] - 30 \t 609.1 \t \t 117.6 \t \t 0.0316 \t 0.8920 \t 0.6462 \t 3.1920 \t \t 0.3958 \t \t 2.1629 \t 0.5979 \t 3.3031 \t \t 0.3462\n",
            "[2021/04/21 04:20:24] - 31 \t 609.3 \t \t 117.7 \t \t 0.0287 \t 0.8769 \t 0.6552 \t 3.1558 \t \t 0.4020 \t \t 2.2301 \t 0.5961 \t 3.3146 \t \t 0.3463\n",
            "[2021/04/21 04:32:33] - 32 \t 609.0 \t \t 117.6 \t \t 0.0259 \t 0.8577 \t 0.6615 \t 3.1113 \t \t 0.4102 \t \t 2.1354 \t 0.6022 \t 3.3545 \t \t 0.3462\n",
            "[2021/04/21 04:44:43] - 33 \t 609.4 \t \t 118.5 \t \t 0.0232 \t 0.8539 \t 0.6676 \t 3.0929 \t \t 0.4182 \t \t 2.1092 \t 0.6015 \t 3.2974 \t \t 0.3475\n"
          ],
          "name": "stdout"
        }
      ]
    },
    {
      "cell_type": "code",
      "metadata": {
        "id": "rKTJLKaMYH0i",
        "colab": {
          "base_uri": "https://localhost:8080/"
        },
        "outputId": "d2060953-cee8-444d-819c-36f01b0e0ebc"
      },
      "source": [
        "!python ContrastiveSamplingRobustness/train_cifar.py --epochs 50 --resume 33 --fname '/content/gdrive/My Drive/SecProj2_2'"
      ],
      "execution_count": 6,
      "outputs": [
        {
          "output_type": "stream",
          "text": [
            "[2021/04/22 00:26:14] - Namespace(attack='pgd', attack_iters=10, batch_size=128, chkpt_iters=10, cutout=False, cutout_len=None, data_dir='../cifar-data', epochs=50, epsilon=8, eval=False, fgsm_alpha=1.25, fgsm_init='random', fname='/content/gdrive/My Drive/SecProj2_2', half=False, l1=0, l2=0, lr_drop_epoch=100, lr_max=0.1, lr_one_drop=0.01, lr_schedule='cosine', mixup=False, mixup_alpha=None, model='PreActResNet18', norm='l_inf', pgd_alpha=2, restarts=1, resume=33, seed=0, val=False, width_factor=10)\n",
            "Files already downloaded and verified\n",
            "Files already downloaded and verified\n",
            "/usr/local/lib/python3.7/dist-packages/torch/utils/data/dataloader.py:477: UserWarning: This DataLoader will create 256 worker processes in total. Our suggested max number of worker in current system is 4, which is smaller than what this DataLoader is going to create. Please be aware that excessive worker creation might get DataLoader running slow or even freeze, lower the worker number to avoid potential slowness/freeze if necessary.\n",
            "  cpuset_checked))\n",
            "[2021/04/22 00:26:16] - Resuming at epoch 33\n",
            "[2021/04/22 00:26:16] - Epoch \t Train Time \t Test Time \t LR \t \t Train Loss \t Train Acc \t Train Robust Loss \t Train Robust Acc \t Test Loss \t Test Acc \t Test Robust Loss \t Test Robust Acc\n",
            "[2021/04/22 00:33:47] - 33 \t 372.5 \t \t 78.2 \t \t 0.0232 \t 0.8317 \t 0.6735 \t 3.0549 \t \t 0.4230 \t \t 2.1896 \t 0.5997 \t 3.2881 \t \t 0.3479\n",
            "[2021/04/22 00:41:15] - 34 \t 370.3 \t \t 77.3 \t \t 0.0206 \t 0.8174 \t 0.6821 \t 3.0181 \t \t 0.4312 \t \t 2.1665 \t 0.5930 \t 3.3125 \t \t 0.3485\n",
            "[2021/04/22 00:48:43] - 35 \t 370.3 \t \t 77.5 \t \t 0.0181 \t 0.8065 \t 0.6885 \t 2.9814 \t \t 0.4412 \t \t 2.0632 \t 0.6063 \t 3.3068 \t \t 0.3341\n",
            "[2021/04/22 00:56:10] - 36 \t 368.6 \t \t 78.2 \t \t 0.0158 \t 0.7942 \t 0.6954 \t 2.9488 \t \t 0.4524 \t \t 2.0194 \t 0.6184 \t 3.2765 \t \t 0.3388\n",
            "[2021/04/22 01:03:39] - 37 \t 370.2 \t \t 77.5 \t \t 0.0136 \t 0.7807 \t 0.7026 \t 2.9052 \t \t 0.4637 \t \t 2.0695 \t 0.6177 \t 3.2856 \t \t 0.3415\n",
            "[2021/04/22 01:11:08] - 38 \t 369.9 \t \t 78.7 \t \t 0.0115 \t 0.7650 \t 0.7085 \t 2.8558 \t \t 0.4742 \t \t 1.9909 \t 0.6196 \t 3.3556 \t \t 0.3392\n",
            "[2021/04/22 01:18:38] - 39 \t 371.1 \t \t 79.0 \t \t 0.0095 \t 0.7957 \t 0.7078 \t 2.8903 \t \t 0.4797 \t \t 1.9686 \t 0.6232 \t 3.2717 \t \t 0.3422\n",
            "[2021/04/22 01:26:09] - 40 \t 371.5 \t \t 79.2 \t \t 0.0078 \t 0.7768 \t 0.7143 \t 2.8460 \t \t 0.4935 \t \t 1.9412 \t 0.6280 \t 3.2961 \t \t 0.3300\n",
            "[2021/04/22 01:33:39] - 41 \t 371.7 \t \t 78.4 \t \t 0.0062 \t 0.7753 \t 0.7194 \t 2.8101 \t \t 0.5056 \t \t 1.9552 \t 0.6281 \t 3.2375 \t \t 0.3436\n",
            "[2021/04/22 01:41:10] - 42 \t 371.1 \t \t 79.6 \t \t 0.0048 \t 0.7594 \t 0.7267 \t 2.7663 \t \t 0.5193 \t \t 1.9530 \t 0.6225 \t 3.2777 \t \t 0.3317\n",
            "[2021/04/22 01:48:41] - 43 \t 371.6 \t \t 78.3 \t \t 0.0035 \t 0.7431 \t 0.7280 \t 2.7274 \t \t 0.5290 \t \t 1.9609 \t 0.6278 \t 3.2557 \t \t 0.3339\n",
            "[2021/04/22 01:56:10] - 44 \t 370.0 \t \t 78.6 \t \t 0.0024 \t 0.7468 \t 0.7305 \t 2.7103 \t \t 0.5396 \t \t 1.8593 \t 0.6369 \t 3.2664 \t \t 0.3322\n",
            "[2021/04/22 02:03:41] - 45 \t 371.3 \t \t 79.3 \t \t 0.0016 \t 0.7262 \t 0.7345 \t 2.6777 \t \t 0.5464 \t \t 1.8910 \t 0.6389 \t 3.2226 \t \t 0.3402\n",
            "[2021/04/22 02:11:10] - 46 \t 370.5 \t \t 79.0 \t \t 0.0009 \t 0.7321 \t 0.7337 \t 2.6696 \t \t 0.5530 \t \t 1.8580 \t 0.6316 \t 3.2321 \t \t 0.3363\n",
            "[2021/04/22 02:18:42] - 47 \t 372.1 \t \t 78.9 \t \t 0.0004 \t 0.7225 \t 0.7364 \t 2.6462 \t \t 0.5589 \t \t 1.8606 \t 0.6374 \t 3.2287 \t \t 0.3366\n",
            "[2021/04/22 02:26:13] - 48 \t 371.9 \t \t 78.9 \t \t 0.0001 \t 0.7154 \t 0.7383 \t 2.6263 \t \t 0.5615 \t \t 1.8481 \t 0.6356 \t 3.2240 \t \t 0.3339\n",
            "Exception in thread Thread-33:\n",
            "Traceback (most recent call last):\n",
            "  File \"/usr/lib/python3.7/threading.py\", line 926, in _bootstrap_inner\n",
            "    self.run()\n",
            "  File \"/usr/lib/python3.7/threading.py\", line 870, in run\n",
            "    self._target(*self._args, **self._kwargs)\n",
            "  File \"/usr/local/lib/python3.7/dist-packages/torch/utils/data/_utils/pin_memory.py\", line 25, in _pin_memory_loop\n",
            "    r = in_queue.get(timeout=MP_STATUS_CHECK_INTERVAL)\n",
            "  File \"/usr/lib/python3.7/multiprocessing/queues.py\", line 113, in get\n",
            "    return _ForkingPickler.loads(res)\n",
            "  File \"/usr/local/lib/python3.7/dist-packages/torch/multiprocessing/reductions.py\", line 282, in rebuild_storage_fd\n",
            "    fd = df.detach()\n",
            "  File \"/usr/lib/python3.7/multiprocessing/resource_sharer.py\", line 57, in detach\n",
            "    with _resource_sharer.get_connection(self._id) as conn:\n",
            "  File \"/usr/lib/python3.7/multiprocessing/resource_sharer.py\", line 87, in get_connection\n",
            "    c = Client(address, authkey=process.current_process().authkey)\n",
            "  File \"/usr/lib/python3.7/multiprocessing/connection.py\", line 498, in Client\n",
            "    answer_challenge(c, authkey)\n",
            "  File \"/usr/lib/python3.7/multiprocessing/connection.py\", line 747, in answer_challenge\n",
            "    response = connection.recv_bytes(256)        # reject large message\n",
            "  File \"/usr/lib/python3.7/multiprocessing/connection.py\", line 216, in recv_bytes\n",
            "    buf = self._recv_bytes(maxlength)\n",
            "  File \"/usr/lib/python3.7/multiprocessing/connection.py\", line 407, in _recv_bytes\n",
            "    buf = self._recv(4)\n",
            "  File \"/usr/lib/python3.7/multiprocessing/connection.py\", line 379, in _recv\n",
            "    chunk = read(handle, remaining)\n",
            "ConnectionResetError: [Errno 104] Connection reset by peer\n",
            "\n",
            "Traceback (most recent call last):\n",
            "  File \"ContrastiveSamplingRobustness/train_cifar.py\", line 554, in <module>\n",
            "    main()\n",
            "  File \"ContrastiveSamplingRobustness/train_cifar.py\", line 393, in main\n",
            "    delta = attack_pgd(model, X, y, epsilon, pgd_alpha, args.attack_iters, args.restarts, args.norm)\n",
            "  File \"ContrastiveSamplingRobustness/train_cifar.py\", line 148, in attack_pgd\n",
            "    logits_con,labels_con = info_nce_loss(out_con)\n",
            "  File \"ContrastiveSamplingRobustness/train_cifar.py\", line 73, in info_nce_loss\n",
            "    labels = torch.cat([torch.arange(batch_size) for i in range(2)], dim=0)\n",
            "KeyboardInterrupt\n"
          ],
          "name": "stdout"
        }
      ]
    },
    {
      "cell_type": "code",
      "metadata": {
        "id": "bIiCBSEoidwk"
      },
      "source": [
        ""
      ],
      "execution_count": null,
      "outputs": []
    }
  ]
}